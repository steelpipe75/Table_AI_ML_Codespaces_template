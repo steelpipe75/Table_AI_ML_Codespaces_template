{
 "cells": [
  {
   "cell_type": "markdown",
   "metadata": {
    "id": "xxuC23t6K2iP"
   },
   "source": [
    "# GitHub Codespaces で Gemini-CLI のブラウザユーザー認証お助けノートブック\n",
    "\n",
    "ターミナルで\n",
    "``` shell\n",
    "gemini -d\n",
    "```\n",
    "を実行\n",
    "\n",
    "外部サイトに飛ぼうとするので開くで進む\n",
    "\n",
    "ログインするGoogleアカウントを選択\n",
    "\n",
    "ログインで進む\n",
    "\n",
    "サイトにアクセスできないない表示になるのを確認する\n",
    "\n",
    "サイトにアクセスできないない表示しているときのURLをコピーする\n",
    "\n",
    "下のセルを実行し、出てくるFormにコピーしたURLをペーストする\n"
   ]
  },
  {
   "cell_type": "code",
   "execution_count": 2,
   "metadata": {
    "colab": {
     "base_uri": "https://localhost:8080/"
    },
    "executionInfo": {
     "elapsed": 7034,
     "status": "ok",
     "timestamp": 1752585062670,
     "user": {
      "displayName": "Yutaka Nishizaki (steelpipe)",
      "userId": "17433954809162146205"
     },
     "user_tz": -540
    },
    "id": "2d894370",
    "outputId": "168e03a8-dfd0-41f6-fbf2-88fb1aa698be"
   },
   "outputs": [],
   "source": [
    "user_input = input(\"コピーしたURLをペーストしてください: \")\n",
    "!curl -sL \"{user_input}\" > /dev/null"
   ]
  }
 ],
 "metadata": {
  "colab": {
   "authorship_tag": "ABX9TyOt8N+atobuH1DcRzuTyu/Q",
   "provenance": []
  },
  "kernelspec": {
   "display_name": "Python 3",
   "name": "python3"
  },
  "language_info": {
   "codemirror_mode": {
    "name": "ipython",
    "version": 3
   },
   "file_extension": ".py",
   "mimetype": "text/x-python",
   "name": "python",
   "nbconvert_exporter": "python",
   "pygments_lexer": "ipython3",
   "version": "3.12.1"
  }
 },
 "nbformat": 4,
 "nbformat_minor": 0
}
