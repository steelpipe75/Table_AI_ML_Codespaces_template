{
  "cells": [
    {
      "cell_type": "markdown",
      "source": [
        "---------------"
      ],
      "metadata": {
        "id": "bgVIyWS5Wu0_"
      }
    },
    {
      "cell_type": "code",
      "source": [
        "!pip install signate"
      ],
      "metadata": {
        "id": "wkT4l5izThlN"
      },
      "execution_count": null,
      "outputs": []
    },
    {
      "cell_type": "code",
      "source": [
        "import os\n",
        "import json\n",
        "from google.colab import userdata\n",
        "signate_api_token = userdata.get('SIGNATE_API_TOKEN')\n",
        "\n",
        "signate_json_path = \"/root/.signate/signate.json\"\n",
        "os.makedirs(os.path.dirname(signate_json_path), exist_ok=True)\n",
        "\n",
        "signate_key = { \"api-token\" : signate_api_token }\n",
        "\n",
        "with open(signate_json_path, \"w\") as f:\n",
        "    f.write(json.dumps(signate_key))"
      ],
      "metadata": {
        "id": "8baMY2fhUEhG"
      },
      "execution_count": null,
      "outputs": []
    },
    {
      "cell_type": "markdown",
      "source": [
        "---------------"
      ],
      "metadata": {
        "id": "DQ9GXFDZXbQO"
      }
    },
    {
      "cell_type": "code",
      "source": [
        "!signate --help"
      ],
      "metadata": {
        "id": "U-Bbzm5zW5L8"
      },
      "execution_count": null,
      "outputs": []
    },
    {
      "cell_type": "code",
      "source": [
        "!signate list --help"
      ],
      "metadata": {
        "id": "TVZtovR1Ui6M"
      },
      "execution_count": null,
      "outputs": []
    },
    {
      "cell_type": "code",
      "source": [
        "!signate files --help"
      ],
      "metadata": {
        "id": "6iIr-wFRW5oW"
      },
      "execution_count": null,
      "outputs": []
    },
    {
      "cell_type": "code",
      "source": [
        "!signate download --help"
      ],
      "metadata": {
        "id": "5FkgTT3HXPs1"
      },
      "execution_count": null,
      "outputs": []
    },
    {
      "cell_type": "code",
      "source": [
        "!signate submit --help"
      ],
      "metadata": {
        "id": "jdCSuL1VXUty"
      },
      "execution_count": null,
      "outputs": []
    },
    {
      "cell_type": "markdown",
      "source": [
        "---------------"
      ],
      "metadata": {
        "id": "kTci7iw_WNHt"
      }
    },
    {
      "cell_type": "code",
      "source": [],
      "metadata": {
        "id": "MxsveS5KV-zH"
      },
      "execution_count": null,
      "outputs": []
    }
  ],
  "metadata": {
    "kernelspec": {
      "display_name": "Python 3",
      "language": "python",
      "name": "python3"
    },
    "language_info": {
      "codemirror_mode": {
        "name": "ipython",
        "version": 3
      },
      "file_extension": ".py",
      "mimetype": "text/x-python",
      "name": "python",
      "nbconvert_exporter": "python",
      "pygments_lexer": "ipython3",
      "version": "3.12.1"
    },
    "colab": {
      "provenance": []
    }
  },
  "nbformat": 4,
  "nbformat_minor": 0
}